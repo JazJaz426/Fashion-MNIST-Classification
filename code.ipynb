{
 "cells": [
  {
   "cell_type": "markdown",
   "metadata": {
    "id": "ZHkLPEEk6t90"
   },
   "source": [
    "# COMP5318 Assignment 1: Coding Part\n"
   ]
  },
  {
   "cell_type": "markdown",
   "metadata": {},
   "source": [
    "## 1. Setup"
   ]
  },
  {
   "cell_type": "markdown",
   "metadata": {
    "id": "wozyfCysX89j"
   },
   "source": [
    "### 1.1 Hardware and Software Information\n",
    "\n",
    "Hardware: \n",
    "  * MacBook Pro (13-inch, 2017, Four Thunderbolt 3 Ports) \n",
    "  * Processor: 3.1 GHz Dual-Core Intel Core i5\n",
    "  * Memory: 8 GB 2133 MHz LPDDR3\n",
    "  * Startup Disk: Macintosh HD\n",
    "  * Graphics: Intel Iris Plus Graphics 650 1536 MB\n",
    "  \n",
    "Software:\n",
    "  *   macOS Big Sur\n",
    "  *   Anaconda\n",
    "  *   Python 3.7"
   ]
  },
  {
   "cell_type": "markdown",
   "metadata": {
    "id": "R_gegO1ekNmU"
   },
   "source": [
    "### 1.2 Load Data and Import Common Libraries"
   ]
  },
  {
   "cell_type": "code",
   "execution_count": 411,
   "metadata": {
    "colab": {
     "base_uri": "https://localhost:8080/"
    },
    "executionInfo": {
     "elapsed": 18,
     "status": "ok",
     "timestamp": 1631780882013,
     "user": {
      "displayName": "Jazlyn Lin",
      "photoUrl": "https://lh3.googleusercontent.com/a-/AOh14GhZCyecSnJp5ur2otNXRO6yyQr__g__ehgupBkY1w=s64",
      "userId": "02163252290895056419"
     },
     "user_tz": -600
    },
    "id": "e2veI2Oy6t9-",
    "outputId": "34126b1a-808e-4cd6-b34f-757abab38af3"
   },
   "outputs": [
    {
     "name": "stdout",
     "output_type": "stream",
     "text": [
      "['images_training.h5', 'labels_training.h5']\n"
     ]
    }
   ],
   "source": [
    "import h5py\n",
    "import numpy as np\n",
    "import os\n",
    "print(os.listdir(\"./Input/train\"))"
   ]
  },
  {
   "cell_type": "code",
   "execution_count": 412,
   "metadata": {
    "colab": {
     "base_uri": "https://localhost:8080/"
    },
    "executionInfo": {
     "elapsed": 14,
     "status": "ok",
     "timestamp": 1631780882014,
     "user": {
      "displayName": "Jazlyn Lin",
      "photoUrl": "https://lh3.googleusercontent.com/a-/AOh14GhZCyecSnJp5ur2otNXRO6yyQr__g__ehgupBkY1w=s64",
      "userId": "02163252290895056419"
     },
     "user_tz": -600
    },
    "id": "dpt8Nr4-6t-A",
    "outputId": "a617a9fd-3ec2-4f74-cf28-c295cd6b0089"
   },
   "outputs": [
    {
     "name": "stdout",
     "output_type": "stream",
     "text": [
      "(30000, 784) (30000,) (2000, 784) (2000,)\n"
     ]
    }
   ],
   "source": [
    "with h5py.File('./Input/train/images_training.h5','r') as H:\n",
    "    data_train = np.copy(H['datatrain'])\n",
    "with h5py.File('./Input/train/labels_training.h5','r') as H:\n",
    "    label_train = np.copy(H['labeltrain'])\n",
    "\n",
    "# using H['datatest'], H['labeltest'] for test dataset.\n",
    "with h5py.File('./Input/test/images_testing.h5','r') as H:\n",
    "    data_test = np.copy(H['datatest'])\n",
    "with h5py.File('./Input/test/labels_testing_2000.h5','r') as H:\n",
    "    label_test = np.copy(H['labeltest'])\n",
    "    \n",
    "data_test = data_test[:2000,:]\n",
    "\n",
    "print(data_train.shape, label_train.shape, data_test.shape, label_test.shape) \n",
    "#30k 28x28 training images with 30k labels\n",
    "#5k 28x28 testing images with only 2k true labels available, the other 3k true labels are reserved for marking\n",
    "#10 classes"
   ]
  },
  {
   "cell_type": "code",
   "execution_count": 413,
   "metadata": {
    "executionInfo": {
     "elapsed": 234,
     "status": "ok",
     "timestamp": 1631785174193,
     "user": {
      "displayName": "Jazlyn Lin",
      "photoUrl": "https://lh3.googleusercontent.com/a-/AOh14GhZCyecSnJp5ur2otNXRO6yyQr__g__ehgupBkY1w=s64",
      "userId": "02163252290895056419"
     },
     "user_tz": -600
    },
    "id": "44aG8id4_FqJ"
   },
   "outputs": [],
   "source": [
    "from sklearn.decomposition import PCA\n",
    "from matplotlib import pyplot as plt\n",
    "from sklearn import svm\n",
    "from sklearn.neighbors import KNeighborsClassifier\n",
    "from sklearn.ensemble import BaggingClassifier\n",
    "from sklearn.model_selection import GridSearchCV\n",
    "from sklearn.preprocessing import MinMaxScaler\n",
    "import time\n",
    "from sklearn.model_selection import cross_val_score\n",
    "from sklearn.metrics import accuracy_score\n",
    "from sklearn.metrics import confusion_matrix\n",
    "from sklearn.metrics import classification_report\n",
    "from sklearn.metrics import plot_confusion_matrix"
   ]
  },
  {
   "cell_type": "markdown",
   "metadata": {
    "id": "W85AHdAZ6t-A"
   },
   "source": [
    "### 1.3 Inspect Data"
   ]
  },
  {
   "cell_type": "code",
   "execution_count": 414,
   "metadata": {
    "executionInfo": {
     "elapsed": 11,
     "status": "ok",
     "timestamp": 1631780882015,
     "user": {
      "displayName": "Jazlyn Lin",
      "photoUrl": "https://lh3.googleusercontent.com/a-/AOh14GhZCyecSnJp5ur2otNXRO6yyQr__g__ehgupBkY1w=s64",
      "userId": "02163252290895056419"
     },
     "user_tz": -600
    },
    "id": "S3fWfI4d6t-B"
   },
   "outputs": [],
   "source": [
    "category_dict = {0: 'T-shirt/Top', 1: 'Trouser', 2: 'Pullover', 3: 'Dress', 4: 'Coat', 5: 'Sandal', 6: 'Shirt', 7: 'Sneaker', 8: 'Bag', 9: 'Ankle Boot'}"
   ]
  },
  {
   "cell_type": "code",
   "execution_count": 415,
   "metadata": {
    "executionInfo": {
     "elapsed": 12,
     "status": "ok",
     "timestamp": 1631780882016,
     "user": {
      "displayName": "Jazlyn Lin",
      "photoUrl": "https://lh3.googleusercontent.com/a-/AOh14GhZCyecSnJp5ur2otNXRO6yyQr__g__ehgupBkY1w=s64",
      "userId": "02163252290895056419"
     },
     "user_tz": -600
    },
    "id": "sa77EG8h6t-E"
   },
   "outputs": [],
   "source": [
    "\n",
    "# data_train_28by28 = data_train.reshape((data_train.shape[0], 28, 28)) #reshape the training data from 30kx784 to 30kx28x28\n",
    "# plt.imshow(data_train_28by28[0], cmap=plt.get_cmap('gray'))\n",
    "# plt.title(\"class \" + str(label_train[0]) + \": \" + category_dict[label_train[0]] )\n",
    "# plt.show()"
   ]
  },
  {
   "cell_type": "code",
   "execution_count": 416,
   "metadata": {
    "executionInfo": {
     "elapsed": 12,
     "status": "ok",
     "timestamp": 1631780882016,
     "user": {
      "displayName": "Jazlyn Lin",
      "photoUrl": "https://lh3.googleusercontent.com/a-/AOh14GhZCyecSnJp5ur2otNXRO6yyQr__g__ehgupBkY1w=s64",
      "userId": "02163252290895056419"
     },
     "user_tz": -600
    },
    "id": "Ga0_aMvT6t-E"
   },
   "outputs": [],
   "source": [
    "# # plot the first 15 images\n",
    "# fig = plt.figure(figsize=(8, 6))\n",
    "# for i in range(10):\n",
    "#     ax = fig.add_subplot(3, 5, i + 1, xticks=[], yticks=[])\n",
    "#     ax.imshow(data_train_28by28[i], cmap=plt.cm.bone)"
   ]
  },
  {
   "cell_type": "code",
   "execution_count": 417,
   "metadata": {
    "executionInfo": {
     "elapsed": 11,
     "status": "ok",
     "timestamp": 1631780882016,
     "user": {
      "displayName": "Jazlyn Lin",
      "photoUrl": "https://lh3.googleusercontent.com/a-/AOh14GhZCyecSnJp5ur2otNXRO6yyQr__g__ehgupBkY1w=s64",
      "userId": "02163252290895056419"
     },
     "user_tz": -600
    },
    "id": "vNn3UfC76t-F"
   },
   "outputs": [],
   "source": [
    "# for i in label_train[:10]:\n",
    "#     print(category_dict[i])"
   ]
  },
  {
   "cell_type": "code",
   "execution_count": 418,
   "metadata": {
    "executionInfo": {
     "elapsed": 12,
     "status": "ok",
     "timestamp": 1631780882017,
     "user": {
      "displayName": "Jazlyn Lin",
      "photoUrl": "https://lh3.googleusercontent.com/a-/AOh14GhZCyecSnJp5ur2otNXRO6yyQr__g__ehgupBkY1w=s64",
      "userId": "02163252290895056419"
     },
     "user_tz": -600
    },
    "id": "08IdRHhz6t-F"
   },
   "outputs": [],
   "source": [
    "# data_test_28by28 = data_test.reshape((data_test.shape[0], 28, 28))\n",
    "# fig = plt.figure(figsize=(8, 6))\n",
    "# for i in range(10):\n",
    "#     ax = fig.add_subplot(3, 5, i + 1, xticks=[], yticks=[])\n",
    "#     ax.imshow(data_test_28by28[i], cmap=plt.cm.bone)"
   ]
  },
  {
   "cell_type": "code",
   "execution_count": 419,
   "metadata": {
    "executionInfo": {
     "elapsed": 13,
     "status": "ok",
     "timestamp": 1631780882018,
     "user": {
      "displayName": "Jazlyn Lin",
      "photoUrl": "https://lh3.googleusercontent.com/a-/AOh14GhZCyecSnJp5ur2otNXRO6yyQr__g__ehgupBkY1w=s64",
      "userId": "02163252290895056419"
     },
     "user_tz": -600
    },
    "id": "JtRoYPS66t-F"
   },
   "outputs": [],
   "source": [
    "# for i in label_test[:10]:\n",
    "#     print(category_dict[i])"
   ]
  },
  {
   "cell_type": "markdown",
   "metadata": {
    "id": "cAH6ZaVg6t-G"
   },
   "source": [
    "## 2. Data Preprocessing"
   ]
  },
  {
   "cell_type": "code",
   "execution_count": 420,
   "metadata": {
    "executionInfo": {
     "elapsed": 13,
     "status": "ok",
     "timestamp": 1631780882019,
     "user": {
      "displayName": "Jazlyn Lin",
      "photoUrl": "https://lh3.googleusercontent.com/a-/AOh14GhZCyecSnJp5ur2otNXRO6yyQr__g__ehgupBkY1w=s64",
      "userId": "02163252290895056419"
     },
     "user_tz": -600
    },
    "id": "Psp6JW2kkVBF"
   },
   "outputs": [],
   "source": [
    "#start timing\n",
    "start_pre = time.time()"
   ]
  },
  {
   "cell_type": "markdown",
   "metadata": {
    "id": "pq50r7zU6t-H"
   },
   "source": [
    "### 2.1: Normalisation (Inspected, no need)\n",
    "\n",
    "Given data are already scaled within [0,1] so there's no need to do further normalisation."
   ]
  },
  {
   "cell_type": "code",
   "execution_count": 421,
   "metadata": {},
   "outputs": [
    {
     "data": {
      "text/plain": [
       "(0.0, 1.0, 0.0, 1.0)"
      ]
     },
     "execution_count": 421,
     "metadata": {},
     "output_type": "execute_result"
    }
   ],
   "source": [
    "data_train.min(), data_train.max(), data_test.min(), data_test.max()"
   ]
  },
  {
   "cell_type": "markdown",
   "metadata": {
    "id": "SfByMptt6t-H"
   },
   "source": [
    "### 2.2: Dimension Reduction through PCA"
   ]
  },
  {
   "cell_type": "markdown",
   "metadata": {
    "id": "DOdOoJlR6t-I"
   },
   "source": [
    "#### 2.2.1 Decide best number of components\n",
    "\n",
    "The elbow point here looks like n_components = 60 which preserves ~87% variance. However, after some tuning and experimentation, I noticed that the best classifier trained with 0.95% variance/226 components has higher CV accuracy without running overtime. Hence here I chose to keep 0.95% variance/226 components."
   ]
  },
  {
   "cell_type": "code",
   "execution_count": 422,
   "metadata": {
    "colab": {
     "base_uri": "https://localhost:8080/"
    },
    "executionInfo": {
     "elapsed": 4107,
     "status": "ok",
     "timestamp": 1631780886418,
     "user": {
      "displayName": "Jazlyn Lin",
      "photoUrl": "https://lh3.googleusercontent.com/a-/AOh14GhZCyecSnJp5ur2otNXRO6yyQr__g__ehgupBkY1w=s64",
      "userId": "02163252290895056419"
     },
     "user_tz": -600
    },
    "id": "4uBnTlSE6t-I",
    "outputId": "bf95f16c-57bf-4d3c-a06b-f9637f9db84c"
   },
   "outputs": [
    {
     "data": {
      "text/plain": [
       "PCA(n_components=0.95)"
      ]
     },
     "execution_count": 422,
     "metadata": {},
     "output_type": "execute_result"
    }
   ],
   "source": [
    "#If we reserve 95% variance\n",
    "pca_95 = PCA(n_components=0.95)\n",
    "pca_95.fit(data_train) "
   ]
  },
  {
   "cell_type": "code",
   "execution_count": 423,
   "metadata": {
    "colab": {
     "base_uri": "https://localhost:8080/",
     "height": 295
    },
    "executionInfo": {
     "elapsed": 951,
     "status": "ok",
     "timestamp": 1631780887347,
     "user": {
      "displayName": "Jazlyn Lin",
      "photoUrl": "https://lh3.googleusercontent.com/a-/AOh14GhZCyecSnJp5ur2otNXRO6yyQr__g__ehgupBkY1w=s64",
      "userId": "02163252290895056419"
     },
     "user_tz": -600
    },
    "id": "a6NdMFOT6t-J",
    "outputId": "409d0578-d453-49d2-a34d-8f81871d103c"
   },
   "outputs": [
    {
     "data": {
      "image/png": "[encoded data removed]",
      "text/plain": [
       "<Figure size 576x396 with 1 Axes>"
      ]
     },
     "metadata": {},
     "output_type": "display_data"
    }
   ],
   "source": [
    "plt.plot(np.cumsum(pca_95.explained_variance_ratio_*100))\n",
    "plt.title(\"Number of Components vs Variance Explained\")\n",
    "plt.xlabel(\"Number of Components\")\n",
    "plt.ylabel(\"Variance Explained\")\n",
    "plt.grid()"
   ]
  },
  {
   "cell_type": "code",
   "execution_count": 424,
   "metadata": {
    "colab": {
     "base_uri": "https://localhost:8080/"
    },
    "executionInfo": {
     "elapsed": 9,
     "status": "ok",
     "timestamp": 1631780887348,
     "user": {
      "displayName": "Jazlyn Lin",
      "photoUrl": "https://lh3.googleusercontent.com/a-/AOh14GhZCyecSnJp5ur2otNXRO6yyQr__g__ehgupBkY1w=s64",
      "userId": "02163252290895056419"
     },
     "user_tz": -600
    },
    "id": "3PM0LXJ46t-J",
    "outputId": "8cb3d20b-11e9-41f2-e678-d687945a3f79"
   },
   "outputs": [
    {
     "name": "stdout",
     "output_type": "stream",
     "text": [
      "Variance$ explained by 20 components: 78.46%\n",
      "Variance$ explained by 40 components: 84.46%\n",
      "Variance$ explained by 60 components: 87.61%\n",
      "Variance$ explained by 80 components: 89.70%\n",
      "Variance$ explained by 100 components: 91.21%\n"
     ]
    }
   ],
   "source": [
    "print(\"Variance$ explained by 20 components: {:.2f}%\".format(np.cumsum(pca_95.explained_variance_ratio_*100)[19]))\n",
    "print(\"Variance$ explained by 40 components: {:.2f}%\".format(np.cumsum(pca_95.explained_variance_ratio_*100)[39]))\n",
    "print(\"Variance$ explained by 60 components: {:.2f}%\".format(np.cumsum(pca_95.explained_variance_ratio_*100)[59]))\n",
    "print(\"Variance$ explained by 80 components: {:.2f}%\".format(np.cumsum(pca_95.explained_variance_ratio_*100)[79]))\n",
    "print(\"Variance$ explained by 100 components: {:.2f}%\".format(np.cumsum(pca_95.explained_variance_ratio_*100)[99]))"
   ]
  },
  {
   "cell_type": "markdown",
   "metadata": {
    "id": "1pjMiHeL6t-K"
   },
   "source": [
    "#### 2.2.2 Apply PCA with selected n_component \n",
    "Apply PCA with n_component = 0.95 (aka 228 components) to both training and testing data"
   ]
  },
  {
   "cell_type": "code",
   "execution_count": 425,
   "metadata": {
    "colab": {
     "base_uri": "https://localhost:8080/"
    },
    "executionInfo": {
     "elapsed": 17,
     "status": "ok",
     "timestamp": 1631780889370,
     "user": {
      "displayName": "Jazlyn Lin",
      "photoUrl": "https://lh3.googleusercontent.com/a-/AOh14GhZCyecSnJp5ur2otNXRO6yyQr__g__ehgupBkY1w=s64",
      "userId": "02163252290895056419"
     },
     "user_tz": -600
    },
    "id": "0bo9ZXM76t-K",
    "outputId": "9b76e395-fb43-4b6c-ceb6-4da0903a3662"
   },
   "outputs": [
    {
     "data": {
      "text/plain": [
       "((30000, 188), (30000,), (2000, 188), (2000,))"
      ]
     },
     "execution_count": 425,
     "metadata": {},
     "output_type": "execute_result"
    }
   ],
   "source": [
    "# reduced both training and testing data dimension from 784 to 60\n",
    "data_train_pre.shape, label_train.shape, data_test_pre.shape, label_test.shape"
   ]
  },
  {
   "cell_type": "code",
   "execution_count": 426,
   "metadata": {
    "executionInfo": {
     "elapsed": 2020,
     "status": "ok",
     "timestamp": 1631780889364,
     "user": {
      "displayName": "Jazlyn Lin",
      "photoUrl": "https://lh3.googleusercontent.com/a-/AOh14GhZCyecSnJp5ur2otNXRO6yyQr__g__ehgupBkY1w=s64",
      "userId": "02163252290895056419"
     },
     "user_tz": -600
    },
    "id": "lStg3y7j6t-K"
   },
   "outputs": [],
   "source": [
    "#apply n_component = 228 or 0.95\n",
    "pca_95 = PCA(n_components=0.95)\n",
    "pca_95.fit(data_train) \n",
    "\n",
    "#here xxx_pre means preprocessed\n",
    "data_train_pre = pca_95.transform(data_train) \n",
    "data_test_pre = pca_95.transform(data_test) "
   ]
  },
  {
   "cell_type": "code",
   "execution_count": 427,
   "metadata": {
    "colab": {
     "base_uri": "https://localhost:8080/"
    },
    "executionInfo": {
     "elapsed": 13,
     "status": "ok",
     "timestamp": 1631780889371,
     "user": {
      "displayName": "Jazlyn Lin",
      "photoUrl": "https://lh3.googleusercontent.com/a-/AOh14GhZCyecSnJp5ur2otNXRO6yyQr__g__ehgupBkY1w=s64",
      "userId": "02163252290895056419"
     },
     "user_tz": -600
    },
    "id": "iAY2eYF8k54L",
    "outputId": "1403fbcb-ef9b-463c-99b4-ce2c684e60d9"
   },
   "outputs": [
    {
     "name": "stdout",
     "output_type": "stream",
     "text": [
      "Preprocessing time took 4.35s\n"
     ]
    }
   ],
   "source": [
    "#end preprocessing timing\n",
    "end_pre = time.time()\n",
    "preprocessing_time = end_pre - start_pre\n",
    "print(\"Preprocessing time took {:.2f}s\".format(preprocessing_time))"
   ]
  },
  {
   "cell_type": "markdown",
   "metadata": {
    "id": "TABzX0sY6t-P"
   },
   "source": [
    "## 3. Hyperparameter Tuning"
   ]
  },
  {
   "cell_type": "markdown",
   "metadata": {
    "id": "p8z3liji6t-P"
   },
   "source": [
    "GridSearchCV method in scikit-learn includes hyperparameter tuning as well as model training via cross-validation. In this section, I mainly explored different classifiers with GridSearchCV method and inspected their testing accuracy using their best tuned hyperparameters. In the end, I picked the top-3 classifiers with the best testing accuracy - KNN, SVM and Bagging with SVM."
   ]
  },
  {
   "cell_type": "markdown",
   "metadata": {
    "id": "SnnYm9tq6t-Q"
   },
   "source": [
    "**Classifier 1 - KNN (selected)**"
   ]
  },
  {
   "cell_type": "code",
   "execution_count": 428,
   "metadata": {
    "executionInfo": {
     "elapsed": 10,
     "status": "ok",
     "timestamp": 1631780889371,
     "user": {
      "displayName": "Jazlyn Lin",
      "photoUrl": "https://lh3.googleusercontent.com/a-/AOh14GhZCyecSnJp5ur2otNXRO6yyQr__g__ehgupBkY1w=s64",
      "userId": "02163252290895056419"
     },
     "user_tz": -600
    },
    "id": "IEYH995w6t-Q"
   },
   "outputs": [],
   "source": [
    "# #step 1: create parameter grid/parameter combo\n",
    "# param_grid = {\n",
    "#     'n_neighbors': [3, 5, 7, 9, 11], \n",
    "#     'p': [1, 2], #p=1 manhattan, p=2 Euclidean\n",
    "#     'weights': ['uniform', 'distance']\n",
    "# } \n",
    "# print(\"Parameter grid:\\n{}\".format(param_grid))\n",
    "\n",
    "# #step 2: split data into training and testing (already did previously)\n",
    "\n",
    "# #step 3: find the best parameter combo and retrain it over all training data\n",
    "# #step 3.1: create GridSearchCV object and fit over training data\n",
    "# # 1. finding best parameters over partial training data \n",
    "# # 2. use such best parameters to retrain model over all training data\n",
    "# grid_search = GridSearchCV(KNeighborsClassifier(), param_grid, cv=10, n_jobs = -1, return_train_score=True)\n",
    "# grid_search.fit(data_train_pre, label_train)\n",
    "# #best model using partial training data(training set of cv)\n",
    "# print(\"Best parameters: {}\".format(grid_search.best_params_))\n",
    "# print(\"Best estimator:\\n{}\".format(grid_search.best_estimator_))\n",
    "# #best cv accuracy using partial training data(training set of cv)\n",
    "# print(\"Best cross-validation score: {:.2f}\".format(grid_search.best_score_))\n",
    "# #step 5: test the retrained classifier performance over test data\n",
    "# print(\"Test score: {:.2f}\".format(grid_search.score(data_test_pre, label_test)))"
   ]
  },
  {
   "cell_type": "markdown",
   "metadata": {
    "id": "WQ16aXXw6t-Q"
   },
   "source": [
    "**Classifier 2 - SVM (selected)**"
   ]
  },
  {
   "cell_type": "code",
   "execution_count": 429,
   "metadata": {
    "executionInfo": {
     "elapsed": 11,
     "status": "ok",
     "timestamp": 1631780889372,
     "user": {
      "displayName": "Jazlyn Lin",
      "photoUrl": "https://lh3.googleusercontent.com/a-/AOh14GhZCyecSnJp5ur2otNXRO6yyQr__g__ehgupBkY1w=s64",
      "userId": "02163252290895056419"
     },
     "user_tz": -600
    },
    "id": "t0JoXMt2XNmH"
   },
   "outputs": [],
   "source": [
    "# param_grid = {'kernel': ['linear', 'poly', 'rbf'], \n",
    "#              'C': [3.15, 3.75, 4.35, 4.95], \n",
    "#              'gamma': [0.285, 0.0385, 0.0485, 0.0585] #big gamma doesn't work well;playing around until I get this range\n",
    "#              }\n",
    "\n",
    "# #step 3.1: create GridSearchCV object and fit over training data\n",
    "# # 1. finding best parameters over partial training data \n",
    "# # 2. use such best parameters to retrain model over all training data\n",
    "# grid_search = GridSearchCV(svm.SVC(), param_grid, cv=10, return_train_score=True)\n",
    "# # grid_search.fit(data_train_pre, label_train)\n",
    "# grid_search.fit(data_train_pre, label_train)\n",
    "# #best model using partial training data(training set of cv)\n",
    "# print(\"Best parameters: {}\".format(grid_search.best_params_))\n",
    "# print(\"Best estimator:\\n{}\".format(grid_search.best_estimator_))\n",
    "# #best cv accuracy using partial training data(training set of cv)\n",
    "# print(\"Best cross-validation score: {:.2f}\".format(grid_search.best_score_))\n",
    "# #step 5: test the retrained classifier performance over test data\n",
    "# print(\"Test score: {:.2f}\".format(grid_search.score(data_test_pre, label_test)))"
   ]
  },
  {
   "cell_type": "markdown",
   "metadata": {
    "id": "CHloPwfs6t-R"
   },
   "source": [
    "**Classifier 3 - Bagging with SVM (selected)**"
   ]
  },
  {
   "cell_type": "code",
   "execution_count": 430,
   "metadata": {
    "executionInfo": {
     "elapsed": 11,
     "status": "ok",
     "timestamp": 1631780889373,
     "user": {
      "displayName": "Jazlyn Lin",
      "photoUrl": "https://lh3.googleusercontent.com/a-/AOh14GhZCyecSnJp5ur2otNXRO6yyQr__g__ehgupBkY1w=s64",
      "userId": "02163252290895056419"
     },
     "user_tz": -600
    },
    "id": "9Pkko0y6YDcE"
   },
   "outputs": [],
   "source": [
    "# param_grid = {'n_estimators' : [15, 20, 25, 30]}\n",
    "\n",
    "# #step 3.1: create GridSearchCV object and fit over training data\n",
    "# # 1. finding best parameters over partial training data \n",
    "# # 2. use such best parameters to retrain model over all training data\n",
    "# grid_search = GridSearchCV(\n",
    "#     BaggingClassifier(svm.SVC(kernel='rbf', C = 3.150, gamma = 0.0385)), \n",
    "#     param_grid,\n",
    "#     cv = 10\n",
    "# )\n",
    "# # grid_search.fit(data_train_pre, label_train)\n",
    "# grid_search.fit(data_train_pre, label_train)\n",
    "# #best model using partial training data(training set of cv)\n",
    "# print(\"Best parameters: {}\".format(grid_search.best_params_))\n",
    "# print(\"Best estimator:\\n{}\".format(grid_search.best_estimator_))\n",
    "# #best cv accuracy using partial training data(training set of cv)\n",
    "# print(\"Best cross-validation score: {:.2f}\".format(grid_search.best_score_))\n",
    "# #step 5: test the retrained classifier performance over test data\n",
    "# print(\"Test score: {:.2f}\".format(grid_search.score(data_test_pre, label_test)))"
   ]
  },
  {
   "cell_type": "markdown",
   "metadata": {
    "id": "0GlmYI-Wfj5b"
   },
   "source": [
    "**Classifier 4 - AdaBoost with Decision Trees**"
   ]
  },
  {
   "cell_type": "code",
   "execution_count": 431,
   "metadata": {
    "executionInfo": {
     "elapsed": 11,
     "status": "ok",
     "timestamp": 1631780889373,
     "user": {
      "displayName": "Jazlyn Lin",
      "photoUrl": "https://lh3.googleusercontent.com/a-/AOh14GhZCyecSnJp5ur2otNXRO6yyQr__g__ehgupBkY1w=s64",
      "userId": "02163252290895056419"
     },
     "user_tz": -600
    },
    "id": "UY6GK7KffQq8"
   },
   "outputs": [],
   "source": [
    "# param_grid = {'n_estimators':[30, 33, 36, 39], \n",
    "#              'learning_rate':[0.5, 0.7]\n",
    "#              }\n",
    "\n",
    "# #step 3.1: create GridSearchCV object and fit over training data\n",
    "# # 1. finding best parameters over partial training data \n",
    "# # 2. use such best parameters to retrain model over all training data\n",
    "# grid_search = GridSearchCV(AdaBoostClassifier(DecisionTreeClassifier(criterion='entropy', max_depth=13, random_state=42)), param_grid, cv=10, return_train_score=True)\n",
    "# # grid_search.fit(data_train_pre, label_train)\n",
    "# grid_search.fit(data_train_pre, label_train)\n",
    "# #best model using partial training data(training set of cv)\n",
    "# print(\"Best parameters: {}\".format(grid_search.best_params_))\n",
    "# print(\"Best estimator:\\n{}\".format(grid_search.best_estimator_))\n",
    "# #best cv accuracy using partial training data(training set of cv)\n",
    "# print(\"Best cross-validation score: {:.2f}\".format(grid_search.best_score_))\n",
    "# #step 5: test the retrained classifier performance over test data\n",
    "# print(\"Test score: {:.2f}\".format(grid_search.score(data_test_pre, label_test)))"
   ]
  },
  {
   "cell_type": "markdown",
   "metadata": {
    "id": "OMwbQhbtgFek"
   },
   "source": [
    "**Classifier 5 - Bagging with Decision Trees**"
   ]
  },
  {
   "cell_type": "code",
   "execution_count": 432,
   "metadata": {
    "executionInfo": {
     "elapsed": 12,
     "status": "ok",
     "timestamp": 1631780889374,
     "user": {
      "displayName": "Jazlyn Lin",
      "photoUrl": "https://lh3.googleusercontent.com/a-/AOh14GhZCyecSnJp5ur2otNXRO6yyQr__g__ehgupBkY1w=s64",
      "userId": "02163252290895056419"
     },
     "user_tz": -600
    },
    "id": "6C-ZuhlAgYpx"
   },
   "outputs": [],
   "source": [
    "# param_grid = {'n_estimators':[15, 20, 25, 30]\n",
    "#              }\n",
    "\n",
    "# #step 3.1: create GridSearchCV object and fit over training data\n",
    "# # 1. finding best parameters over partial training data \n",
    "# # 2. use such best parameters to retrain model over all training data\n",
    "# grid_search = GridSearchCV(BaggingClassifier(DecisionTreeClassifier(criterion='entropy', max_depth=16, random_state=42)), param_grid, cv=10, return_train_score=True)\n",
    "# # grid_search.fit(data_train_pre, label_train)\n",
    "# grid_search.fit(data_train_pre, label_train)\n",
    "# #best model using partial training data(training set of cv)\n",
    "# print(\"Best parameters: {}\".format(grid_search.best_params_))\n",
    "# print(\"Best estimator:\\n{}\".format(grid_search.best_estimator_))\n",
    "# #best cv accuracy using partial training data(training set of cv)\n",
    "# print(\"Best cross-validation score: {:.2f}\".format(grid_search.best_score_))\n",
    "# #step 5: test the retrained classifier performance over test data\n",
    "# print(\"Test score: {:.2f}\".format(grid_search.score(data_test_pre, label_test)))"
   ]
  },
  {
   "cell_type": "markdown",
   "metadata": {
    "id": "l7X8T1HUg5su"
   },
   "source": [
    "## 4: Implement Classifiers with Best Hyperparameters"
   ]
  },
  {
   "cell_type": "markdown",
   "metadata": {
    "id": "sXkxTktyXYid"
   },
   "source": [
    "### 4.1 Train classifiers with best hyperparameters and obtain training time"
   ]
  },
  {
   "cell_type": "markdown",
   "metadata": {
    "id": "RR6uSoNO6t-L"
   },
   "source": [
    "**Classifier 1 - KNN**"
   ]
  },
  {
   "cell_type": "code",
   "execution_count": 433,
   "metadata": {
    "colab": {
     "base_uri": "https://localhost:8080/"
    },
    "executionInfo": {
     "elapsed": 448,
     "status": "ok",
     "timestamp": 1631780889811,
     "user": {
      "displayName": "Jazlyn Lin",
      "photoUrl": "https://lh3.googleusercontent.com/a-/AOh14GhZCyecSnJp5ur2otNXRO6yyQr__g__ehgupBkY1w=s64",
      "userId": "02163252290895056419"
     },
     "user_tz": -600
    },
    "id": "SMcLZ9cV6t-L",
    "outputId": "71777e24-0dbe-434c-ecb1-203a5723a54a"
   },
   "outputs": [
    {
     "name": "stdout",
     "output_type": "stream",
     "text": [
      "KNN Algorithms training time 0.03s\n"
     ]
    }
   ],
   "source": [
    "start_knn = time.time()\n",
    "knn = KNeighborsClassifier(n_neighbors = 9, p = 1, weights = 'distance')\n",
    "knn.fit(data_train_pre, label_train)\n",
    "end_knn = time.time()\n",
    "knn_time = end_knn-start_knn\n",
    "print(\"KNN Algorithms training time {:.2f}s\".format(knn_time))"
   ]
  },
  {
   "cell_type": "markdown",
   "metadata": {
    "id": "49QBH0f-6t-P"
   },
   "source": [
    "**Classifier 2 - SVM**"
   ]
  },
  {
   "cell_type": "code",
   "execution_count": 434,
   "metadata": {
    "colab": {
     "base_uri": "https://localhost:8080/"
    },
    "executionInfo": {
     "elapsed": 24030,
     "status": "ok",
     "timestamp": 1631780913837,
     "user": {
      "displayName": "Jazlyn Lin",
      "photoUrl": "https://lh3.googleusercontent.com/a-/AOh14GhZCyecSnJp5ur2otNXRO6yyQr__g__ehgupBkY1w=s64",
      "userId": "02163252290895056419"
     },
     "user_tz": -600
    },
    "id": "U7t_D_2d_Fqs",
    "outputId": "dc0514f0-3d9c-4654-aedd-23f411c09a9e"
   },
   "outputs": [
    {
     "name": "stdout",
     "output_type": "stream",
     "text": [
      "SVM Algorithms training time 48.29s\n"
     ]
    }
   ],
   "source": [
    "start_svm = time.time()\n",
    "# svm_clf = svm.SVC(kernel='rbf', C = 10, gamma = 'scale') \n",
    "svm_clf = svm.SVC(kernel='rbf', C = 3.150, gamma = 0.0385) \n",
    "svm_clf.fit(data_train_pre, label_train)\n",
    "end_svm = time.time()\n",
    "svm_time = end_svm-start_svm\n",
    "print(\"SVM Algorithms training time {:.2f}s\".format(svm_time))"
   ]
  },
  {
   "cell_type": "markdown",
   "metadata": {
    "id": "fKQp3Ssg6t-M"
   },
   "source": [
    "**Classifier 3 - Bagging with SVM**"
   ]
  },
  {
   "cell_type": "code",
   "execution_count": 435,
   "metadata": {
    "colab": {
     "base_uri": "https://localhost:8080/"
    },
    "executionInfo": {
     "elapsed": 209387,
     "status": "ok",
     "timestamp": 1631781123208,
     "user": {
      "displayName": "Jazlyn Lin",
      "photoUrl": "https://lh3.googleusercontent.com/a-/AOh14GhZCyecSnJp5ur2otNXRO6yyQr__g__ehgupBkY1w=s64",
      "userId": "02163252290895056419"
     },
     "user_tz": -600
    },
    "id": "-sEXBk_bQXcF",
    "outputId": "ae63f289-cf6d-4ce1-8f31-349369fca2ef"
   },
   "outputs": [
    {
     "name": "stdout",
     "output_type": "stream",
     "text": [
      "Bagging Algorithms training time 428.42s\n"
     ]
    }
   ],
   "source": [
    "start_bagging = time.time()\n",
    "# bag_clf = BaggingClassifier(svm.SVC(kernel='rbf', C = 10, gamma = 'scale'), n_estimators = 20)\n",
    "bag_clf = BaggingClassifier(svm.SVC(kernel='rbf', C = 3.150, gamma = 0.0385), n_estimators = 20)\n",
    "bag_clf.fit(data_train_pre, label_train)\n",
    "end_bagging = time.time()\n",
    "bagging_time = end_bagging-start_bagging\n",
    "print(\"Bagging Algorithms training time {:.2f}s\".format(bagging_time))"
   ]
  },
  {
   "cell_type": "markdown",
   "metadata": {
    "id": "olC_iLbKp4cA"
   },
   "source": [
    "## 5. Compare classifiers with performance and time metrics"
   ]
  },
  {
   "cell_type": "markdown",
   "metadata": {
    "id": "FpV9i62jYkSp"
   },
   "source": [
    "### 5.1 Accuracy and Inference Time"
   ]
  },
  {
   "cell_type": "code",
   "execution_count": 436,
   "metadata": {
    "colab": {
     "base_uri": "https://localhost:8080/"
    },
    "executionInfo": {
     "elapsed": 12049,
     "status": "ok",
     "timestamp": 1631792150547,
     "user": {
      "displayName": "Jazlyn Lin",
      "photoUrl": "https://lh3.googleusercontent.com/a-/AOh14GhZCyecSnJp5ur2otNXRO6yyQr__g__ehgupBkY1w=s64",
      "userId": "02163252290895056419"
     },
     "user_tz": -600
    },
    "id": "_bu9IR7Fp-M2",
    "outputId": "60db7a84-67eb-47a9-9dc6-34029815c757"
   },
   "outputs": [
    {
     "name": "stdout",
     "output_type": "stream",
     "text": [
      "KNN accuracy on training set: 1.000\n",
      "KNN accuracy on test set: 0.840\n",
      "KNN inference time on test set: 15.51s\n"
     ]
    }
   ],
   "source": [
    "#Training accuracy of KNN\n",
    "y_pred_train_knn = knn.predict(data_train_pre)\n",
    "\n",
    "#Inference time of KNN\n",
    "start_inf_knn = time.time()\n",
    "y_pred_test_knn = knn.predict(data_test_pre)\n",
    "end_inf_knn = time.time()\n",
    "knn_inf_time = end_inf_knn-start_inf_knn\n",
    "knn_score_train = accuracy_score(label_train, y_pred_train_knn)\n",
    "knn_score_test = accuracy_score(label_test, y_pred_test_knn)\n",
    "print(\"KNN accuracy on training set: {:.3f}\".format(knn_score_train))\n",
    "print(\"KNN accuracy on test set: {:.3f}\".format(knn_score_test))\n",
    "print(\"KNN inference time on test set: {:.2f}s\".format(knn_inf_time))"
   ]
  },
  {
   "cell_type": "code",
   "execution_count": 437,
   "metadata": {
    "colab": {
     "base_uri": "https://localhost:8080/"
    },
    "executionInfo": {
     "elapsed": 39044,
     "status": "ok",
     "timestamp": 1631792299835,
     "user": {
      "displayName": "Jazlyn Lin",
      "photoUrl": "https://lh3.googleusercontent.com/a-/AOh14GhZCyecSnJp5ur2otNXRO6yyQr__g__ehgupBkY1w=s64",
      "userId": "02163252290895056419"
     },
     "user_tz": -600
    },
    "id": "CV0pbQaGW6FB",
    "outputId": "3bf2a1c6-2a7b-4d81-906c-1d900bddf613"
   },
   "outputs": [
    {
     "name": "stdout",
     "output_type": "stream",
     "text": [
      "SVM accuracy on training set: 0.984\n",
      "SVM accuracy on test set: 0.884\n",
      "SVM inference time on test set: 7.09s\n"
     ]
    }
   ],
   "source": [
    "#Training accuracy of SVM\n",
    "y_pred_train_svm = svm_clf.predict(data_train_pre)\n",
    "\n",
    "#Inference time of SVM\n",
    "start_inf_svm = time.time()\n",
    "y_pred_test_svm = svm_clf.predict(data_test_pre)\n",
    "end_inf_svm = time.time()\n",
    "svm_inf_time = end_inf_svm-start_inf_svm\n",
    "\n",
    "svm_score_train = accuracy_score(label_train, y_pred_train_svm)\n",
    "svm_score_test = accuracy_score(label_test, y_pred_test_svm)\n",
    "print(\"SVM accuracy on training set: {:.3f}\".format(svm_score_train))\n",
    "print(\"SVM accuracy on test set: {:.3f}\".format(svm_score_test))\n",
    "print(\"SVM inference time on test set: {:.2f}s\".format(svm_inf_time))"
   ]
  },
  {
   "cell_type": "code",
   "execution_count": 438,
   "metadata": {
    "colab": {
     "base_uri": "https://localhost:8080/"
    },
    "executionInfo": {
     "elapsed": 523353,
     "status": "ok",
     "timestamp": 1631792848585,
     "user": {
      "displayName": "Jazlyn Lin",
      "photoUrl": "https://lh3.googleusercontent.com/a-/AOh14GhZCyecSnJp5ur2otNXRO6yyQr__g__ehgupBkY1w=s64",
      "userId": "02163252290895056419"
     },
     "user_tz": -600
    },
    "id": "nCt1nScdXAW_",
    "outputId": "da45cc56-7bfd-4772-aca7-589c1f01d6fe"
   },
   "outputs": [
    {
     "name": "stdout",
     "output_type": "stream",
     "text": [
      "Bagging ensemble of SVM - accuracy on training set: 0.98\n",
      "Bagging ensemble of SVM - accuracy on test set: 0.884\n",
      "Bagging inference time on test set: 89.89s\n"
     ]
    }
   ],
   "source": [
    "#Training accuracy of Bagging\n",
    "y_pred_train_bagging = bag_clf.predict(data_train_pre)\n",
    "\n",
    "#Inference time of Bagging\n",
    "start_inf_bagging = time.time()\n",
    "y_pred_test_bagging = bag_clf.predict(data_test_pre)\n",
    "end_inf_bagging = time.time()\n",
    "bagging_inf_time = end_inf_bagging-start_inf_bagging\n",
    "bagging_score_train = accuracy_score(label_train, y_pred_train_bagging)\n",
    "bagging_score_test = accuracy_score(label_test, y_pred_test_bagging)\n",
    "print(\"Bagging ensemble of SVM - accuracy on training set: {:.2f}\".format(bagging_score_train))\n",
    "print(\"Bagging ensemble of SVM - accuracy on test set: {:.3f}\".format(bagging_score_test))\n",
    "print(\"Bagging inference time on test set: {:.2f}s\".format(bagging_inf_time))"
   ]
  },
  {
   "cell_type": "markdown",
   "metadata": {
    "id": "g8l3au_0AgaZ"
   },
   "source": [
    "### 5.2 Confusion Matrix"
   ]
  },
  {
   "cell_type": "code",
   "execution_count": 439,
   "metadata": {
    "id": "lRmAcQ-m_tcB"
   },
   "outputs": [],
   "source": [
    "targets = ['T-shirt/Top', 'Trouser', 'Pullover', 'Dress', 'Coat', 'Sandal', 'Shirt', 'Sneaker', 'Bag', 'Ankle Boot']"
   ]
  },
  {
   "cell_type": "code",
   "execution_count": 440,
   "metadata": {
    "colab": {
     "base_uri": "https://localhost:8080/",
     "height": 852
    },
    "executionInfo": {
     "elapsed": 12198,
     "status": "ok",
     "timestamp": 1631794325770,
     "user": {
      "displayName": "Jazlyn Lin",
      "photoUrl": "https://lh3.googleusercontent.com/a-/AOh14GhZCyecSnJp5ur2otNXRO6yyQr__g__ehgupBkY1w=s64",
      "userId": "02163252290895056419"
     },
     "user_tz": -600
    },
    "id": "XyivxlJrsCZL",
    "outputId": "d2296436-e2aa-49e8-d809-e60cbc23216a",
    "scrolled": true
   },
   "outputs": [
    {
     "data": {
      "image/png": "[encoded data removed]",
      "text/plain": [
       "<Figure size 1080x1080 with 1 Axes>"
      ]
     },
     "metadata": {},
     "output_type": "display_data"
    }
   ],
   "source": [
    "#Confusion Matrix\n",
    "#KNN\n",
    "fig, ax = plt.subplots(figsize=(15, 15))\n",
    "plot_confusion_matrix(knn, data_test_pre, label_test, cmap=plt.cm.Blues, ax=ax, display_labels=targets, normalize = 'all', colorbar = False)  #normalize = 'all' let /all in matrix \n",
    "plt.show()  "
   ]
  },
  {
   "cell_type": "code",
   "execution_count": 441,
   "metadata": {
    "colab": {
     "base_uri": "https://localhost:8080/",
     "height": 852
    },
    "executionInfo": {
     "elapsed": 3874,
     "status": "ok",
     "timestamp": 1631794477758,
     "user": {
      "displayName": "Jazlyn Lin",
      "photoUrl": "https://lh3.googleusercontent.com/a-/AOh14GhZCyecSnJp5ur2otNXRO6yyQr__g__ehgupBkY1w=s64",
      "userId": "02163252290895056419"
     },
     "user_tz": -600
    },
    "id": "sXDufJWN97Ri",
    "outputId": "d8f013ba-3a9f-4599-d0ef-0886d66bb901"
   },
   "outputs": [
    {
     "data": {
      "image/png": "[encoded data removed]",
      "text/plain": [
       "<Figure size 1080x1080 with 1 Axes>"
      ]
     },
     "metadata": {},
     "output_type": "display_data"
    }
   ],
   "source": [
    "#SVM\n",
    "fig, ax = plt.subplots(figsize=(15, 15))\n",
    "plot_confusion_matrix(svm_clf, data_test_pre, label_test, cmap=plt.cm.Blues, ax=ax, display_labels=targets, normalize = 'all', colorbar = False)  \n",
    "plt.show()  "
   ]
  },
  {
   "cell_type": "code",
   "execution_count": 442,
   "metadata": {
    "colab": {
     "base_uri": "https://localhost:8080/",
     "height": 852
    },
    "executionInfo": {
     "elapsed": 34156,
     "status": "ok",
     "timestamp": 1631794513300,
     "user": {
      "displayName": "Jazlyn Lin",
      "photoUrl": "https://lh3.googleusercontent.com/a-/AOh14GhZCyecSnJp5ur2otNXRO6yyQr__g__ehgupBkY1w=s64",
      "userId": "02163252290895056419"
     },
     "user_tz": -600
    },
    "id": "ypK2NXnL980x",
    "outputId": "20e74f87-a775-4f5e-f223-182cf5f3ecf4"
   },
   "outputs": [
    {
     "data": {
      "image/png": "[encoded data removed]",
      "text/plain": [
       "<Figure size 1080x1080 with 1 Axes>"
      ]
     },
     "metadata": {},
     "output_type": "display_data"
    }
   ],
   "source": [
    "#Bagging \n",
    "fig, ax = plt.subplots(figsize=(15, 15))\n",
    "plot_confusion_matrix(bag_clf, data_test_pre, label_test, cmap=plt.cm.Blues, ax=ax, display_labels=targets, normalize = 'all', colorbar = False)  \n",
    "plt.show()"
   ]
  },
  {
   "cell_type": "markdown",
   "metadata": {
    "id": "Vxh3HxV4Akxx"
   },
   "source": [
    "### 5.3 Classification Report"
   ]
  },
  {
   "cell_type": "code",
   "execution_count": 443,
   "metadata": {},
   "outputs": [],
   "source": [
    "# from yellowbrick.classifier import classification_report"
   ]
  },
  {
   "cell_type": "code",
   "execution_count": 444,
   "metadata": {},
   "outputs": [],
   "source": [
    "# fig, ax = plt.subplots(figsize=(10, 10))\n",
    "# viz = classification_report(\n",
    "#     knn, data_train_pre, label_train, data_test_pre, label_test, ax=ax, cmap='GnBu', classes=targets)\n",
    "# viz.fit(data_train_pre, label_train)\n",
    "# viz.score(data_test_pre, label_test)\n",
    "# viz.show()"
   ]
  },
  {
   "cell_type": "code",
   "execution_count": 445,
   "metadata": {
    "colab": {
     "base_uri": "https://localhost:8080/"
    },
    "executionInfo": {
     "elapsed": 20,
     "status": "ok",
     "timestamp": 1631785748285,
     "user": {
      "displayName": "Jazlyn Lin",
      "photoUrl": "https://lh3.googleusercontent.com/a-/AOh14GhZCyecSnJp5ur2otNXRO6yyQr__g__ehgupBkY1w=s64",
      "userId": "02163252290895056419"
     },
     "user_tz": -600
    },
    "id": "P80CNsKqsoZ-",
    "outputId": "d3d9a81d-13ee-461c-97c7-56f28ea553a0"
   },
   "outputs": [],
   "source": [
    "# #KNN\n",
    "# print(classification_report(label_test, y_pred_test_knn, target_names=targets))"
   ]
  },
  {
   "cell_type": "code",
   "execution_count": 446,
   "metadata": {},
   "outputs": [],
   "source": [
    "# fig, ax = plt.subplots(figsize=(10, 10))\n",
    "# viz = classification_report(\n",
    "#     svm_clf, data_train_pre, label_train, data_test_pre, label_test, ax=ax, cmap='GnBu', classes=targets)\n",
    "# viz.fit(data_train_pre, label_train)\n",
    "# viz.score(data_test_pre, label_test)\n",
    "# viz.show()"
   ]
  },
  {
   "cell_type": "code",
   "execution_count": 447,
   "metadata": {
    "colab": {
     "base_uri": "https://localhost:8080/"
    },
    "executionInfo": {
     "elapsed": 244,
     "status": "ok",
     "timestamp": 1631785744561,
     "user": {
      "displayName": "Jazlyn Lin",
      "photoUrl": "https://lh3.googleusercontent.com/a-/AOh14GhZCyecSnJp5ur2otNXRO6yyQr__g__ehgupBkY1w=s64",
      "userId": "02163252290895056419"
     },
     "user_tz": -600
    },
    "id": "ma0EG8GX9hNE",
    "outputId": "7e411c9d-bcb0-4319-9e29-595f10c711de"
   },
   "outputs": [],
   "source": [
    "# #SVM\n",
    "# print(classification_report(label_test, y_pred_test_svm, target_names=targets))  "
   ]
  },
  {
   "cell_type": "code",
   "execution_count": 448,
   "metadata": {},
   "outputs": [],
   "source": [
    "# fig, ax = plt.subplots(figsize=(10, 10))\n",
    "# viz = classification_report(\n",
    "#     bag_clf, data_train_pre, label_train, data_test_pre, label_test, ax=ax, cmap='GnBu', classes=targets)\n",
    "# viz.fit(data_train_pre, label_train)\n",
    "# viz.score(data_test_pre, label_test)\n",
    "# viz.show()"
   ]
  },
  {
   "cell_type": "code",
   "execution_count": 449,
   "metadata": {
    "colab": {
     "base_uri": "https://localhost:8080/"
    },
    "executionInfo": {
     "elapsed": 259,
     "status": "ok",
     "timestamp": 1631785771216,
     "user": {
      "displayName": "Jazlyn Lin",
      "photoUrl": "https://lh3.googleusercontent.com/a-/AOh14GhZCyecSnJp5ur2otNXRO6yyQr__g__ehgupBkY1w=s64",
      "userId": "02163252290895056419"
     },
     "user_tz": -600
    },
    "id": "3yGvWPBE9jup",
    "outputId": "18c88863-e612-4f50-ffce-6079a3f1612d"
   },
   "outputs": [],
   "source": [
    "# #BaggingwithSVM\n",
    "# print(classification_report(label_test, y_pred_test_bagging, target_names=targets))  "
   ]
  },
  {
   "cell_type": "markdown",
   "metadata": {},
   "source": [
    "### 5.4 Other Visualisations"
   ]
  },
  {
   "cell_type": "markdown",
   "metadata": {},
   "source": [
    "visualisation for comparing class pixel distributions "
   ]
  },
  {
   "cell_type": "code",
   "execution_count": 450,
   "metadata": {},
   "outputs": [
    {
     "data": {
      "image/png": "[encoded data removed]",
      "text/plain": [
       "<Figure size 576x396 with 1 Axes>"
      ]
     },
     "metadata": {},
     "output_type": "display_data"
    }
   ],
   "source": [
    "from matplotlib.ticker import PercentFormatter\n",
    "#find the rows of T-shirt/Top - class 0\n",
    "shape0 = data_test[np.where(label_test == 0)].shape[0]\n",
    "class_0 = data_test[np.where(label_test == 0)].reshape((shape0*28*28,1))\n",
    "plt.hist(class_0, weights=np.ones(len(class_0)) / len(class_0))\n",
    "plt.gca().yaxis.set_major_formatter(PercentFormatter(1))\n",
    "plt.show()"
   ]
  },
  {
   "cell_type": "code",
   "execution_count": 451,
   "metadata": {},
   "outputs": [
    {
     "data": {
      "image/png": "[encoded data removed]",
      "text/plain": [
       "<Figure size 576x396 with 1 Axes>"
      ]
     },
     "metadata": {},
     "output_type": "display_data"
    }
   ],
   "source": [
    "#find the rows of Pullover - class 2\n",
    "shape0 = data_test[np.where(label_test == 2)].shape[0]\n",
    "class_2 = data_test[np.where(label_test == 2)].reshape(shape0*28*28,1)\n",
    "plt.hist(class_2, weights=np.ones(len(class_2)) / len(class_2))\n",
    "plt.gca().yaxis.set_major_formatter(PercentFormatter(1))\n",
    "plt.show()"
   ]
  },
  {
   "cell_type": "code",
   "execution_count": 452,
   "metadata": {},
   "outputs": [
    {
     "data": {
      "image/png": "[encoded data removed]",
      "text/plain": [
       "<Figure size 576x396 with 1 Axes>"
      ]
     },
     "metadata": {},
     "output_type": "display_data"
    }
   ],
   "source": [
    "#find the rows of Coat - class 4\n",
    "shape0 = data_test[np.where(label_test == 4)].shape[0]\n",
    "class_4 = data_test[np.where(label_test == 4)].reshape(shape0*28*28,1)\n",
    "plt.hist(class_4, weights=np.ones(len(class_4)) / len(class_4))\n",
    "plt.gca().yaxis.set_major_formatter(PercentFormatter(1))\n",
    "plt.show()"
   ]
  },
  {
   "cell_type": "code",
   "execution_count": 453,
   "metadata": {},
   "outputs": [
    {
     "data": {
      "image/png": "[encoded data removed]",
      "text/plain": [
       "<Figure size 576x396 with 1 Axes>"
      ]
     },
     "metadata": {},
     "output_type": "display_data"
    }
   ],
   "source": [
    "#find the rows of Shirt - class 6\n",
    "shape0 = data_test[np.where(label_test == 6)].shape[0]\n",
    "class_6 = data_test[np.where(label_test == 6)].reshape(shape0*28*28,1)\n",
    "plt.hist(class_6, weights=np.ones(len(class_6)) / len(class_6))\n",
    "plt.gca().yaxis.set_major_formatter(PercentFormatter(1))\n",
    "plt.show()"
   ]
  },
  {
   "cell_type": "code",
   "execution_count": 454,
   "metadata": {},
   "outputs": [
    {
     "data": {
      "image/png": "[encoded data removed]",
      "text/plain": [
       "<Figure size 576x396 with 1 Axes>"
      ]
     },
     "metadata": {},
     "output_type": "display_data"
    }
   ],
   "source": [
    "#find the rows of Shirt - class 8\n",
    "shape0 = data_test[np.where(label_test == 9)].shape[0]\n",
    "class_9 = data_test[np.where(label_test == 9)].reshape(shape0*28*28,1)\n",
    "plt.hist(class_9, weights=np.ones(len(class_9)) / len(class_9))\n",
    "plt.gca().yaxis.set_major_formatter(PercentFormatter(1))\n",
    "plt.show()"
   ]
  },
  {
   "cell_type": "code",
   "execution_count": 455,
   "metadata": {},
   "outputs": [
    {
     "data": {
      "image/png": "[encoded data removed]",
      "text/plain": [
       "<Figure size 576x396 with 1 Axes>"
      ]
     },
     "metadata": {},
     "output_type": "display_data"
    }
   ],
   "source": [
    "#find the rows of Trousers - class 3\n",
    "shape0 = data_test[np.where(label_test == 1)].shape[0]\n",
    "class_1 = data_test[np.where(label_test == 1)].reshape((shape0*28*28,1))\n",
    "plt.hist(class_1, weights=np.ones(len(class_1)) / len(class_1), color = 'green')\n",
    "plt.gca().yaxis.set_major_formatter(PercentFormatter(1))\n",
    "plt.show()"
   ]
  },
  {
   "cell_type": "code",
   "execution_count": 456,
   "metadata": {},
   "outputs": [
    {
     "data": {
      "image/png": "[encoded data removed]",
      "text/plain": [
       "<Figure size 576x396 with 1 Axes>"
      ]
     },
     "metadata": {},
     "output_type": "display_data"
    }
   ],
   "source": [
    "#find the rows of Sandal - class 5\n",
    "shape0 = data_test[np.where(label_test == 5)].shape[0]\n",
    "class_5 = data_test[np.where(label_test == 5)].reshape((shape0*28*28,1))\n",
    "plt.hist(class_5, weights=np.ones(len(class_5)) / len(class_5), color = 'green')\n",
    "plt.gca().yaxis.set_major_formatter(PercentFormatter(1))\n",
    "plt.show()"
   ]
  },
  {
   "cell_type": "code",
   "execution_count": 457,
   "metadata": {},
   "outputs": [
    {
     "data": {
      "image/png": "[encoded data removed]",
      "text/plain": [
       "<Figure size 576x396 with 1 Axes>"
      ]
     },
     "metadata": {},
     "output_type": "display_data"
    }
   ],
   "source": [
    "#find the rows of Sneaker - class 7\n",
    "shape0 = data_test[np.where(label_test == 7)].shape[0]\n",
    "class_7 = data_test[np.where(label_test == 7)].reshape((shape0*28*28,1))\n",
    "plt.hist(class_7, weights=np.ones(len(class_7)) / len(class_7), color = 'green')\n",
    "plt.gca().yaxis.set_major_formatter(PercentFormatter(1))\n",
    "plt.show()"
   ]
  },
  {
   "cell_type": "code",
   "execution_count": 458,
   "metadata": {},
   "outputs": [
    {
     "data": {
      "image/png": "[encoded data removed]",
      "text/plain": [
       "<Figure size 576x396 with 1 Axes>"
      ]
     },
     "metadata": {},
     "output_type": "display_data"
    }
   ],
   "source": [
    "#find the rows of Ankle Boot - class 9\n",
    "shape0 = data_test[np.where(label_test == 9)].shape[0]\n",
    "class_9 = data_test[np.where(label_test == 9)].reshape((shape0*28*28,1))\n",
    "plt.hist(class_9, weights=np.ones(len(class_9)) / len(class_9), color = 'green')\n",
    "plt.gca().yaxis.set_major_formatter(PercentFormatter(1))\n",
    "plt.show()"
   ]
  },
  {
   "cell_type": "markdown",
   "metadata": {
    "id": "jnfMDVHGU-0W"
   },
   "source": [
    "## 6. Save Output\n",
    "Save the best classifier - SVM's test set prediction as output and load into h5 file"
   ]
  },
  {
   "cell_type": "code",
   "execution_count": 459,
   "metadata": {
    "executionInfo": {
     "elapsed": 314,
     "status": "ok",
     "timestamp": 1631791136445,
     "user": {
      "displayName": "Jazlyn Lin",
      "photoUrl": "https://lh3.googleusercontent.com/a-/AOh14GhZCyecSnJp5ur2otNXRO6yyQr__g__ehgupBkY1w=s64",
      "userId": "02163252290895056419"
     },
     "user_tz": -600
    },
    "id": "a2-cifvgUq_L"
   },
   "outputs": [],
   "source": [
    "import numpy as np\n",
    "output = y_pred_test_svm\n",
    "with h5py.File('./Output/predicted_labels.h5','w') as H:\n",
    "    H.create_dataset('Output', data=output)"
   ]
  }
 ],
 "metadata": {
  "accelerator": "TPU",
  "anaconda-cloud": {},
  "colab": {
   "collapsed_sections": [],
   "name": "Assignment_1_2021_SEMIFINAL.ipynb",
   "provenance": []
  },
  "kernelspec": {
   "display_name": "Python 3 (ipykernel)",
   "language": "python",
   "name": "python3"
  },
  "language_info": {
   "codemirror_mode": {
    "name": "ipython",
    "version": 3
   },
   "file_extension": ".py",
   "mimetype": "text/x-python",
   "name": "python",
   "nbconvert_exporter": "python",
   "pygments_lexer": "ipython3",
   "version": "3.8.11"
  }
 },
 "nbformat": 4,
 "nbformat_minor": 1
}
